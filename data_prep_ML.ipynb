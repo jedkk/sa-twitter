{
  "cells": [
    {
      "cell_type": "code",
      "source": [
        "from google.colab import drive\n",
        "drive.mount('/content/drive')"
      ],
      "metadata": {
        "colab": {
          "base_uri": "https://localhost:8080/"
        },
        "id": "Jp5vKKEcNP9x",
        "outputId": "b5db395e-91af-45b9-a54c-4b2615f5442a"
      },
      "id": "Jp5vKKEcNP9x",
      "execution_count": 2,
      "outputs": [
        {
          "output_type": "stream",
          "name": "stdout",
          "text": [
            "Mounted at /content/drive\n"
          ]
        }
      ]
    },
    {
      "cell_type": "code",
      "execution_count": 3,
      "id": "75863b2f",
      "metadata": {
        "id": "75863b2f",
        "outputId": "778ee061-fee6-4a1b-d301-2f2a072672a4",
        "colab": {
          "base_uri": "https://localhost:8080/"
        }
      },
      "outputs": [
        {
          "output_type": "stream",
          "name": "stdout",
          "text": [
            "[nltk_data] Downloading package stopwords to /root/nltk_data...\n",
            "[nltk_data]   Unzipping corpora/stopwords.zip.\n",
            "[nltk_data] Downloading package wordnet to /root/nltk_data...\n",
            "[nltk_data]   Unzipping corpora/wordnet.zip.\n"
          ]
        },
        {
          "output_type": "stream",
          "name": "stderr",
          "text": [
            "/usr/local/lib/python3.7/dist-packages/nltk/twitter/__init__.py:20: UserWarning: The twython library has not been installed. Some functionality from the twitter package will not be available.\n",
            "  warnings.warn(\"The twython library has not been installed. \"\n"
          ]
        },
        {
          "output_type": "stream",
          "name": "stdout",
          "text": [
            "[nltk_data] Downloading package vader_lexicon to /root/nltk_data...\n"
          ]
        }
      ],
      "source": [
        "# basic\n",
        "import pandas as pd\n",
        "import numpy as np\n",
        "\n",
        "# data processing\n",
        "import re\n",
        "import nltk\n",
        "nltk.download('stopwords')\n",
        "nltk.download('wordnet')\n",
        "from nltk.corpus import stopwords\n",
        "from nltk.stem import WordNetLemmatizer\n",
        "from nltk.tokenize import TweetTokenizer\n",
        "from nltk.sentiment.vader import SentimentIntensityAnalyzer\n",
        "nltk.download('vader_lexicon')\n",
        "import string\n",
        "\n",
        "# machine learningg\n",
        "from sklearn.feature_extraction.text import CountVectorizer, TfidfTransformer, TfidfVectorizer\n",
        "from sklearn.linear_model import SGDClassifier, LogisticRegression\n",
        "from sklearn.naive_bayes import MultinomialNB\n",
        "from sklearn.ensemble import RandomForestClassifier, GradientBoostingClassifier, AdaBoostClassifier\n",
        "from sklearn.tree import DecisionTreeClassifier\n",
        "from sklearn.model_selection import train_test_split\n",
        "from sklearn.metrics import accuracy_score, confusion_matrix, f1_score\n",
        "from sklearn.model_selection import RandomizedSearchCV\n",
        "from scipy.stats import uniform\n",
        "from scipy.sparse import csr_matrix"
      ]
    },
    {
      "cell_type": "code",
      "source": [
        "np.random.seed(1234)"
      ],
      "metadata": {
        "id": "urAxc7v2cqZ4"
      },
      "id": "urAxc7v2cqZ4",
      "execution_count": 4,
      "outputs": []
    },
    {
      "cell_type": "markdown",
      "source": [
        "Reading in our labelled train data `train_labelled.csv`"
      ],
      "metadata": {
        "id": "zJgrMszFHHYx"
      },
      "id": "zJgrMszFHHYx"
    },
    {
      "cell_type": "code",
      "execution_count": 5,
      "id": "685a286f",
      "metadata": {
        "id": "685a286f",
        "outputId": "4f19782c-1cd8-4c2a-f045-4baa03460385",
        "colab": {
          "base_uri": "https://localhost:8080/",
          "height": 206
        }
      },
      "outputs": [
        {
          "output_type": "execute_result",
          "data": {
            "text/plain": [
              "                                               tweet product  label\n",
              "0                    id rather buy a model thank you     tm3      1\n",
              "1  a lil surprised the bmw actually won also weir...     tm3      0\n",
              "2  looking for a steal steering wheel trim for te...     tm3      0\n",
              "3     tesla model will be europes best selling ev of     tm3      1\n",
              "4               win a tesla model long range or cash     tm3      0"
            ],
            "text/html": [
              "\n",
              "  <div id=\"df-202f3bb3-4466-4f5b-ba83-a87ef45e0cb2\">\n",
              "    <div class=\"colab-df-container\">\n",
              "      <div>\n",
              "<style scoped>\n",
              "    .dataframe tbody tr th:only-of-type {\n",
              "        vertical-align: middle;\n",
              "    }\n",
              "\n",
              "    .dataframe tbody tr th {\n",
              "        vertical-align: top;\n",
              "    }\n",
              "\n",
              "    .dataframe thead th {\n",
              "        text-align: right;\n",
              "    }\n",
              "</style>\n",
              "<table border=\"1\" class=\"dataframe\">\n",
              "  <thead>\n",
              "    <tr style=\"text-align: right;\">\n",
              "      <th></th>\n",
              "      <th>tweet</th>\n",
              "      <th>product</th>\n",
              "      <th>label</th>\n",
              "    </tr>\n",
              "  </thead>\n",
              "  <tbody>\n",
              "    <tr>\n",
              "      <th>0</th>\n",
              "      <td>id rather buy a model thank you</td>\n",
              "      <td>tm3</td>\n",
              "      <td>1</td>\n",
              "    </tr>\n",
              "    <tr>\n",
              "      <th>1</th>\n",
              "      <td>a lil surprised the bmw actually won also weir...</td>\n",
              "      <td>tm3</td>\n",
              "      <td>0</td>\n",
              "    </tr>\n",
              "    <tr>\n",
              "      <th>2</th>\n",
              "      <td>looking for a steal steering wheel trim for te...</td>\n",
              "      <td>tm3</td>\n",
              "      <td>0</td>\n",
              "    </tr>\n",
              "    <tr>\n",
              "      <th>3</th>\n",
              "      <td>tesla model will be europes best selling ev of</td>\n",
              "      <td>tm3</td>\n",
              "      <td>1</td>\n",
              "    </tr>\n",
              "    <tr>\n",
              "      <th>4</th>\n",
              "      <td>win a tesla model long range or cash</td>\n",
              "      <td>tm3</td>\n",
              "      <td>0</td>\n",
              "    </tr>\n",
              "  </tbody>\n",
              "</table>\n",
              "</div>\n",
              "      <button class=\"colab-df-convert\" onclick=\"convertToInteractive('df-202f3bb3-4466-4f5b-ba83-a87ef45e0cb2')\"\n",
              "              title=\"Convert this dataframe to an interactive table.\"\n",
              "              style=\"display:none;\">\n",
              "        \n",
              "  <svg xmlns=\"http://www.w3.org/2000/svg\" height=\"24px\"viewBox=\"0 0 24 24\"\n",
              "       width=\"24px\">\n",
              "    <path d=\"M0 0h24v24H0V0z\" fill=\"none\"/>\n",
              "    <path d=\"M18.56 5.44l.94 2.06.94-2.06 2.06-.94-2.06-.94-.94-2.06-.94 2.06-2.06.94zm-11 1L8.5 8.5l.94-2.06 2.06-.94-2.06-.94L8.5 2.5l-.94 2.06-2.06.94zm10 10l.94 2.06.94-2.06 2.06-.94-2.06-.94-.94-2.06-.94 2.06-2.06.94z\"/><path d=\"M17.41 7.96l-1.37-1.37c-.4-.4-.92-.59-1.43-.59-.52 0-1.04.2-1.43.59L10.3 9.45l-7.72 7.72c-.78.78-.78 2.05 0 2.83L4 21.41c.39.39.9.59 1.41.59.51 0 1.02-.2 1.41-.59l7.78-7.78 2.81-2.81c.8-.78.8-2.07 0-2.86zM5.41 20L4 18.59l7.72-7.72 1.47 1.35L5.41 20z\"/>\n",
              "  </svg>\n",
              "      </button>\n",
              "      \n",
              "  <style>\n",
              "    .colab-df-container {\n",
              "      display:flex;\n",
              "      flex-wrap:wrap;\n",
              "      gap: 12px;\n",
              "    }\n",
              "\n",
              "    .colab-df-convert {\n",
              "      background-color: #E8F0FE;\n",
              "      border: none;\n",
              "      border-radius: 50%;\n",
              "      cursor: pointer;\n",
              "      display: none;\n",
              "      fill: #1967D2;\n",
              "      height: 32px;\n",
              "      padding: 0 0 0 0;\n",
              "      width: 32px;\n",
              "    }\n",
              "\n",
              "    .colab-df-convert:hover {\n",
              "      background-color: #E2EBFA;\n",
              "      box-shadow: 0px 1px 2px rgba(60, 64, 67, 0.3), 0px 1px 3px 1px rgba(60, 64, 67, 0.15);\n",
              "      fill: #174EA6;\n",
              "    }\n",
              "\n",
              "    [theme=dark] .colab-df-convert {\n",
              "      background-color: #3B4455;\n",
              "      fill: #D2E3FC;\n",
              "    }\n",
              "\n",
              "    [theme=dark] .colab-df-convert:hover {\n",
              "      background-color: #434B5C;\n",
              "      box-shadow: 0px 1px 3px 1px rgba(0, 0, 0, 0.15);\n",
              "      filter: drop-shadow(0px 1px 2px rgba(0, 0, 0, 0.3));\n",
              "      fill: #FFFFFF;\n",
              "    }\n",
              "  </style>\n",
              "\n",
              "      <script>\n",
              "        const buttonEl =\n",
              "          document.querySelector('#df-202f3bb3-4466-4f5b-ba83-a87ef45e0cb2 button.colab-df-convert');\n",
              "        buttonEl.style.display =\n",
              "          google.colab.kernel.accessAllowed ? 'block' : 'none';\n",
              "\n",
              "        async function convertToInteractive(key) {\n",
              "          const element = document.querySelector('#df-202f3bb3-4466-4f5b-ba83-a87ef45e0cb2');\n",
              "          const dataTable =\n",
              "            await google.colab.kernel.invokeFunction('convertToInteractive',\n",
              "                                                     [key], {});\n",
              "          if (!dataTable) return;\n",
              "\n",
              "          const docLinkHtml = 'Like what you see? Visit the ' +\n",
              "            '<a target=\"_blank\" href=https://colab.research.google.com/notebooks/data_table.ipynb>data table notebook</a>'\n",
              "            + ' to learn more about interactive tables.';\n",
              "          element.innerHTML = '';\n",
              "          dataTable['output_type'] = 'display_data';\n",
              "          await google.colab.output.renderOutput(dataTable, element);\n",
              "          const docLink = document.createElement('div');\n",
              "          docLink.innerHTML = docLinkHtml;\n",
              "          element.appendChild(docLink);\n",
              "        }\n",
              "      </script>\n",
              "    </div>\n",
              "  </div>\n",
              "  "
            ]
          },
          "metadata": {},
          "execution_count": 5
        }
      ],
      "source": [
        "df = pd.read_csv('/content/drive/MyDrive/NUS/BT4222/BT4222 Project/train_labelled.csv').drop(columns=['time', 'name','username','replies_count','retweets_count', 'likes_count' ])\n",
        "df.head()"
      ]
    },
    {
      "cell_type": "code",
      "execution_count": 6,
      "id": "92555d1a",
      "metadata": {
        "id": "92555d1a"
      },
      "outputs": [],
      "source": [
        "def process_tweet(tweet):\n",
        "    #Remove old style retweet text \"RT\"\n",
        "    tweet2 = re.sub(r'^RT[\\s]','', tweet)\n",
        "    \n",
        "    # Remove hyperlinks\n",
        "    tweet2 = re.sub(r'https?:\\/\\/.*[\\r\\n]*', '', tweet2)\n",
        "    \n",
        "    # Remove hastags\n",
        "    tweet2 = re.sub(r'#','',tweet2)\n",
        "    \n",
        "    # Remove punctuation\n",
        "    tweet2 = re.sub(r'[,\\.!?\\'\\\"]', '', tweet2)\n",
        "    \n",
        "    # lowercase\n",
        "    tweet2 = tweet2.lower()\n",
        "        \n",
        "    # instantiate tokenizer class\n",
        "    tokenizer = TweetTokenizer(preserve_case=False, strip_handles=True, reduce_len=True)\n",
        "    \n",
        "    # tokenize tweets\n",
        "    tweet_tokens = tokenizer.tokenize(tweet2)    \n",
        "        \n",
        "    #Import the english stop words list from NLTK\n",
        "    stopwords_english = stopwords.words('english') \n",
        "    \n",
        "    # Creating a list of words without stopwords\n",
        "    tweets_clean = []\n",
        "    for word in tweet_tokens:\n",
        "      if word not in stopwords_english and word not in string.punctuation:\n",
        "        tweets_clean.append(word)\n",
        "        \n",
        "    wordnet_lemmatizer = WordNetLemmatizer()\n",
        "    \n",
        "    # Creating a list of stems of words in tweet\n",
        "    tweets_stem = []\n",
        "    for word in tweets_clean:\n",
        "      tweets_stem.append(wordnet_lemmatizer.lemmatize(word))\n",
        "        \n",
        "    return tweets_stem"
      ]
    },
    {
      "cell_type": "code",
      "execution_count": 7,
      "id": "0b09f6d2",
      "metadata": {
        "id": "0b09f6d2"
      },
      "outputs": [],
      "source": [
        "df['tweet_processed'] = df['tweet'].apply(process_tweet)"
      ]
    },
    {
      "cell_type": "code",
      "source": [
        "df"
      ],
      "metadata": {
        "colab": {
          "base_uri": "https://localhost:8080/",
          "height": 424
        },
        "id": "c6kSYez0ZsJ6",
        "outputId": "c58adb5e-0328-40a2-ffd1-8cdbeca87077"
      },
      "id": "c6kSYez0ZsJ6",
      "execution_count": 8,
      "outputs": [
        {
          "output_type": "execute_result",
          "data": {
            "text/plain": [
              "                                                  tweet product  label  \\\n",
              "0                       id rather buy a model thank you     tm3      1   \n",
              "1     a lil surprised the bmw actually won also weir...     tm3      0   \n",
              "2     looking for a steal steering wheel trim for te...     tm3      0   \n",
              "3        tesla model will be europes best selling ev of     tm3      1   \n",
              "4                  win a tesla model long range or cash     tm3      0   \n",
              "...                                                 ...     ...    ...   \n",
              "2015  a michigan startup retrofitted a tesla model s...     tms      0   \n",
              "2016  tesla model s plaid gets track mode and carbon...     tms      0   \n",
              "2017  ive said it before and ill say it again i like...     tms     -1   \n",
              "2018  tesla model s plaid with active aero spy shots...     tms      0   \n",
              "2019  how about one giveaway tesla model s plaid for...     tms      0   \n",
              "\n",
              "                                        tweet_processed  \n",
              "0                       [id, rather, buy, model, thank]  \n",
              "1     [lil, surprised, bmw, actually, also, weird, q...  \n",
              "2     [looking, steal, steering, wheel, trim, tesla,...  \n",
              "3             [tesla, model, europe, best, selling, ev]  \n",
              "4                [win, tesla, model, long, range, cash]  \n",
              "...                                                 ...  \n",
              "2015  [michigan, startup, retrofitted, tesla, model,...  \n",
              "2016  [tesla, model, plaid, get, track, mode, carbon...  \n",
              "2017  [ive, said, ill, say, liked, ford, truck, even...  \n",
              "2018  [tesla, model, plaid, active, aero, spy, shot,...  \n",
              "2019  [one, giveaway, tesla, model, plaid, one, tesl...  \n",
              "\n",
              "[2020 rows x 4 columns]"
            ],
            "text/html": [
              "\n",
              "  <div id=\"df-4d50554b-faad-45f5-8dd9-ca6bc2fddf55\">\n",
              "    <div class=\"colab-df-container\">\n",
              "      <div>\n",
              "<style scoped>\n",
              "    .dataframe tbody tr th:only-of-type {\n",
              "        vertical-align: middle;\n",
              "    }\n",
              "\n",
              "    .dataframe tbody tr th {\n",
              "        vertical-align: top;\n",
              "    }\n",
              "\n",
              "    .dataframe thead th {\n",
              "        text-align: right;\n",
              "    }\n",
              "</style>\n",
              "<table border=\"1\" class=\"dataframe\">\n",
              "  <thead>\n",
              "    <tr style=\"text-align: right;\">\n",
              "      <th></th>\n",
              "      <th>tweet</th>\n",
              "      <th>product</th>\n",
              "      <th>label</th>\n",
              "      <th>tweet_processed</th>\n",
              "    </tr>\n",
              "  </thead>\n",
              "  <tbody>\n",
              "    <tr>\n",
              "      <th>0</th>\n",
              "      <td>id rather buy a model thank you</td>\n",
              "      <td>tm3</td>\n",
              "      <td>1</td>\n",
              "      <td>[id, rather, buy, model, thank]</td>\n",
              "    </tr>\n",
              "    <tr>\n",
              "      <th>1</th>\n",
              "      <td>a lil surprised the bmw actually won also weir...</td>\n",
              "      <td>tm3</td>\n",
              "      <td>0</td>\n",
              "      <td>[lil, surprised, bmw, actually, also, weird, q...</td>\n",
              "    </tr>\n",
              "    <tr>\n",
              "      <th>2</th>\n",
              "      <td>looking for a steal steering wheel trim for te...</td>\n",
              "      <td>tm3</td>\n",
              "      <td>0</td>\n",
              "      <td>[looking, steal, steering, wheel, trim, tesla,...</td>\n",
              "    </tr>\n",
              "    <tr>\n",
              "      <th>3</th>\n",
              "      <td>tesla model will be europes best selling ev of</td>\n",
              "      <td>tm3</td>\n",
              "      <td>1</td>\n",
              "      <td>[tesla, model, europe, best, selling, ev]</td>\n",
              "    </tr>\n",
              "    <tr>\n",
              "      <th>4</th>\n",
              "      <td>win a tesla model long range or cash</td>\n",
              "      <td>tm3</td>\n",
              "      <td>0</td>\n",
              "      <td>[win, tesla, model, long, range, cash]</td>\n",
              "    </tr>\n",
              "    <tr>\n",
              "      <th>...</th>\n",
              "      <td>...</td>\n",
              "      <td>...</td>\n",
              "      <td>...</td>\n",
              "      <td>...</td>\n",
              "    </tr>\n",
              "    <tr>\n",
              "      <th>2015</th>\n",
              "      <td>a michigan startup retrofitted a tesla model s...</td>\n",
              "      <td>tms</td>\n",
              "      <td>0</td>\n",
              "      <td>[michigan, startup, retrofitted, tesla, model,...</td>\n",
              "    </tr>\n",
              "    <tr>\n",
              "      <th>2016</th>\n",
              "      <td>tesla model s plaid gets track mode and carbon...</td>\n",
              "      <td>tms</td>\n",
              "      <td>0</td>\n",
              "      <td>[tesla, model, plaid, get, track, mode, carbon...</td>\n",
              "    </tr>\n",
              "    <tr>\n",
              "      <th>2017</th>\n",
              "      <td>ive said it before and ill say it again i like...</td>\n",
              "      <td>tms</td>\n",
              "      <td>-1</td>\n",
              "      <td>[ive, said, ill, say, liked, ford, truck, even...</td>\n",
              "    </tr>\n",
              "    <tr>\n",
              "      <th>2018</th>\n",
              "      <td>tesla model s plaid with active aero spy shots...</td>\n",
              "      <td>tms</td>\n",
              "      <td>0</td>\n",
              "      <td>[tesla, model, plaid, active, aero, spy, shot,...</td>\n",
              "    </tr>\n",
              "    <tr>\n",
              "      <th>2019</th>\n",
              "      <td>how about one giveaway tesla model s plaid for...</td>\n",
              "      <td>tms</td>\n",
              "      <td>0</td>\n",
              "      <td>[one, giveaway, tesla, model, plaid, one, tesl...</td>\n",
              "    </tr>\n",
              "  </tbody>\n",
              "</table>\n",
              "<p>2020 rows × 4 columns</p>\n",
              "</div>\n",
              "      <button class=\"colab-df-convert\" onclick=\"convertToInteractive('df-4d50554b-faad-45f5-8dd9-ca6bc2fddf55')\"\n",
              "              title=\"Convert this dataframe to an interactive table.\"\n",
              "              style=\"display:none;\">\n",
              "        \n",
              "  <svg xmlns=\"http://www.w3.org/2000/svg\" height=\"24px\"viewBox=\"0 0 24 24\"\n",
              "       width=\"24px\">\n",
              "    <path d=\"M0 0h24v24H0V0z\" fill=\"none\"/>\n",
              "    <path d=\"M18.56 5.44l.94 2.06.94-2.06 2.06-.94-2.06-.94-.94-2.06-.94 2.06-2.06.94zm-11 1L8.5 8.5l.94-2.06 2.06-.94-2.06-.94L8.5 2.5l-.94 2.06-2.06.94zm10 10l.94 2.06.94-2.06 2.06-.94-2.06-.94-.94-2.06-.94 2.06-2.06.94z\"/><path d=\"M17.41 7.96l-1.37-1.37c-.4-.4-.92-.59-1.43-.59-.52 0-1.04.2-1.43.59L10.3 9.45l-7.72 7.72c-.78.78-.78 2.05 0 2.83L4 21.41c.39.39.9.59 1.41.59.51 0 1.02-.2 1.41-.59l7.78-7.78 2.81-2.81c.8-.78.8-2.07 0-2.86zM5.41 20L4 18.59l7.72-7.72 1.47 1.35L5.41 20z\"/>\n",
              "  </svg>\n",
              "      </button>\n",
              "      \n",
              "  <style>\n",
              "    .colab-df-container {\n",
              "      display:flex;\n",
              "      flex-wrap:wrap;\n",
              "      gap: 12px;\n",
              "    }\n",
              "\n",
              "    .colab-df-convert {\n",
              "      background-color: #E8F0FE;\n",
              "      border: none;\n",
              "      border-radius: 50%;\n",
              "      cursor: pointer;\n",
              "      display: none;\n",
              "      fill: #1967D2;\n",
              "      height: 32px;\n",
              "      padding: 0 0 0 0;\n",
              "      width: 32px;\n",
              "    }\n",
              "\n",
              "    .colab-df-convert:hover {\n",
              "      background-color: #E2EBFA;\n",
              "      box-shadow: 0px 1px 2px rgba(60, 64, 67, 0.3), 0px 1px 3px 1px rgba(60, 64, 67, 0.15);\n",
              "      fill: #174EA6;\n",
              "    }\n",
              "\n",
              "    [theme=dark] .colab-df-convert {\n",
              "      background-color: #3B4455;\n",
              "      fill: #D2E3FC;\n",
              "    }\n",
              "\n",
              "    [theme=dark] .colab-df-convert:hover {\n",
              "      background-color: #434B5C;\n",
              "      box-shadow: 0px 1px 3px 1px rgba(0, 0, 0, 0.15);\n",
              "      filter: drop-shadow(0px 1px 2px rgba(0, 0, 0, 0.3));\n",
              "      fill: #FFFFFF;\n",
              "    }\n",
              "  </style>\n",
              "\n",
              "      <script>\n",
              "        const buttonEl =\n",
              "          document.querySelector('#df-4d50554b-faad-45f5-8dd9-ca6bc2fddf55 button.colab-df-convert');\n",
              "        buttonEl.style.display =\n",
              "          google.colab.kernel.accessAllowed ? 'block' : 'none';\n",
              "\n",
              "        async function convertToInteractive(key) {\n",
              "          const element = document.querySelector('#df-4d50554b-faad-45f5-8dd9-ca6bc2fddf55');\n",
              "          const dataTable =\n",
              "            await google.colab.kernel.invokeFunction('convertToInteractive',\n",
              "                                                     [key], {});\n",
              "          if (!dataTable) return;\n",
              "\n",
              "          const docLinkHtml = 'Like what you see? Visit the ' +\n",
              "            '<a target=\"_blank\" href=https://colab.research.google.com/notebooks/data_table.ipynb>data table notebook</a>'\n",
              "            + ' to learn more about interactive tables.';\n",
              "          element.innerHTML = '';\n",
              "          dataTable['output_type'] = 'display_data';\n",
              "          await google.colab.output.renderOutput(dataTable, element);\n",
              "          const docLink = document.createElement('div');\n",
              "          docLink.innerHTML = docLinkHtml;\n",
              "          element.appendChild(docLink);\n",
              "        }\n",
              "      </script>\n",
              "    </div>\n",
              "  </div>\n",
              "  "
            ]
          },
          "metadata": {},
          "execution_count": 8
        }
      ]
    },
    {
      "cell_type": "code",
      "execution_count": 9,
      "id": "d6820b2f",
      "metadata": {
        "id": "d6820b2f"
      },
      "outputs": [],
      "source": [
        "train_df, test_df = train_test_split(df, test_size=0.2)"
      ]
    },
    {
      "cell_type": "code",
      "execution_count": 10,
      "id": "4d6416b9",
      "metadata": {
        "id": "4d6416b9"
      },
      "outputs": [],
      "source": [
        "train_df['tweet_str'] = train_df['tweet_processed'].apply(', '.join)"
      ]
    },
    {
      "cell_type": "code",
      "execution_count": null,
      "id": "680203f7",
      "metadata": {
        "id": "680203f7",
        "outputId": "77748c75-c345-49c2-fe94-31d45e8df569",
        "colab": {
          "base_uri": "https://localhost:8080/",
          "height": 217
        }
      },
      "outputs": [
        {
          "output_type": "execute_result",
          "data": {
            "text/plain": [
              "<PIL.Image.Image image mode=RGB size=400x200 at 0x7FC6D120B250>"
            ],
            "image/png": "[encoded data removed]"
          },
          "metadata": {},
          "execution_count": 204
        }
      ],
      "source": [
        "from wordcloud import WordCloud\n",
        "# Join the different processed titles together.\n",
        "long_string = ','.join(train_df['tweet_str'])\n",
        "# Create a WordCloud object\n",
        "wordcloud = WordCloud(background_color=\"white\", max_words=5000, contour_width=3, contour_color='steelblue')\n",
        "# Generate a word cloud\n",
        "wordcloud.generate(long_string)\n",
        "# Visualize the word cloud\n",
        "wordcloud.to_image()"
      ]
    },
    {
      "cell_type": "code",
      "source": [
        "vectors = []\n",
        "\n",
        "for index, row in train_df.iterrows():\n",
        "    vectors.append(\", \".join(row[3]))"
      ],
      "metadata": {
        "id": "AmbwKpk6aIe_"
      },
      "id": "AmbwKpk6aIe_",
      "execution_count": 11,
      "outputs": []
    },
    {
      "cell_type": "code",
      "source": [
        "vect = TfidfVectorizer(stop_words='english', ngram_range=(1, 2))\n",
        "X_dtm = vect.fit_transform(vectors)\n",
        "X_dtm.shape"
      ],
      "metadata": {
        "colab": {
          "base_uri": "https://localhost:8080/"
        },
        "id": "CYGK7_KsaFpj",
        "outputId": "81bf6b20-9de6-4b87-eefb-a71d2cfa10dd"
      },
      "id": "CYGK7_KsaFpj",
      "execution_count": 12,
      "outputs": [
        {
          "output_type": "execute_result",
          "data": {
            "text/plain": [
              "(1616, 16971)"
            ]
          },
          "metadata": {},
          "execution_count": 12
        }
      ]
    },
    {
      "cell_type": "code",
      "execution_count": 13,
      "id": "a3ff12ed",
      "metadata": {
        "id": "a3ff12ed"
      },
      "outputs": [],
      "source": [
        "y_train = train_df['label'].values"
      ]
    },
    {
      "cell_type": "code",
      "execution_count": 14,
      "id": "6dcdaab2",
      "metadata": {
        "id": "6dcdaab2"
      },
      "outputs": [],
      "source": [
        "X_test = vect.transform(test_df['tweet'].values)\n",
        "y_test = test_df['label'].values"
      ]
    },
    {
      "cell_type": "code",
      "source": [
        "# defining the supervised learning classifiers\n",
        "state = 2022\n",
        "sgd_classifier = SGDClassifier(random_state=state)\n",
        "log_classifier = LogisticRegression(multi_class='multinomial', random_state=state, max_iter=1000)\n",
        "NB_classifier = MultinomialNB()\n",
        "DT_classifier = DecisionTreeClassifier(random_state=state)\n",
        "RF_classifier = RandomForestClassifier(random_state=state)\n",
        "GB_classifier = GradientBoostingClassifier(random_state=state)"
      ],
      "metadata": {
        "id": "kFBGVG5HgEMz"
      },
      "id": "kFBGVG5HgEMz",
      "execution_count": 15,
      "outputs": []
    },
    {
      "cell_type": "code",
      "source": [
        "def train_and_show_scores(X, y, title, clf): # title = name of classifier\n",
        "    X_train, X_valid, y_train, y_valid = train_test_split(X, y, train_size=0.8, random_state=2022, stratify=y)\n",
        "    clf.fit(X_train, y_train)\n",
        "    train_score = clf.score(X_train, y_train)\n",
        "    valid_score = clf.score(X_valid, y_valid)\n",
        "    print(f'{title}\\nTrain score: {round(train_score, 2)} ; Validation score: {round(valid_score, 2)}\\n')"
      ],
      "metadata": {
        "id": "N4aXjeDOfwYE"
      },
      "id": "N4aXjeDOfwYE",
      "execution_count": 16,
      "outputs": []
    },
    {
      "cell_type": "code",
      "source": [
        "# Randomised search cross validatiojn\n",
        "def rscv(X_train, y_train, clf, distributions): # define the distributions individually for each classifier\n",
        "  random_search_cv = RandomizedSearchCV(\n",
        "    estimator=clf,\n",
        "    param_distributions=distributions,\n",
        "    cv=5,\n",
        "    n_iter=50\n",
        "  )\n",
        "  random_search_cv.fit(X_train, y_train)\n",
        "  print(f'Best params: {random_search_cv.best_params_}')\n",
        "  print(f'Best score: {random_search_cv.best_score_}')\n",
        "  return random_search_cv"
      ],
      "metadata": {
        "id": "RtxrbHuijRNZ"
      },
      "id": "RtxrbHuijRNZ",
      "execution_count": 17,
      "outputs": []
    },
    {
      "cell_type": "code",
      "source": [
        "def res(clf):\n",
        "  y_pred = clf.predict(X_test)\n",
        "  report = \"\"\"\n",
        "  The evaluation report is:\n",
        "  Confusion Matrix:\n",
        "  {}\n",
        "  Accuracy: {}\n",
        "  \"\"\".format(confusion_matrix(y_test, y_pred),\n",
        "            accuracy_score(y_test, y_pred))\n",
        "  print(report)"
      ],
      "metadata": {
        "id": "KGmytg3nnuuE"
      },
      "id": "KGmytg3nnuuE",
      "execution_count": 18,
      "outputs": []
    },
    {
      "cell_type": "markdown",
      "source": [
        "## SGD"
      ],
      "metadata": {
        "id": "iWyepPgPjKPo"
      },
      "id": "iWyepPgPjKPo"
    },
    {
      "cell_type": "code",
      "source": [
        "train_and_show_scores(X_dtm, y_train, 'SGD Classifier', sgd_classifier)"
      ],
      "metadata": {
        "colab": {
          "base_uri": "https://localhost:8080/"
        },
        "id": "AdkSoZ7Ci8pQ",
        "outputId": "6c95f5c1-87a6-4fdc-d268-1b41ebf8d971"
      },
      "id": "AdkSoZ7Ci8pQ",
      "execution_count": 19,
      "outputs": [
        {
          "output_type": "stream",
          "name": "stdout",
          "text": [
            "SGD Classifier\n",
            "Train score: 1.0 ; Validation score: 0.64\n",
            "\n"
          ]
        }
      ]
    },
    {
      "cell_type": "code",
      "source": [
        "# phase 1: learning & loss params\n",
        "distributions = dict(\n",
        "    loss=['hinge', 'log', 'modified_huber', 'squared_hinge', 'perceptron'],\n",
        "    learning_rate=['optimal', 'invscaling', 'adaptive'],\n",
        "    eta0=uniform(loc=1e-7, scale=1e-2)\n",
        ")\n",
        "random_search_cv = rscv(X_dtm, y_train, sgd_classifier, distributions)"
      ],
      "metadata": {
        "colab": {
          "base_uri": "https://localhost:8080/"
        },
        "id": "V2UnHwx3kbty",
        "outputId": "ceaad982-3e6e-413d-9b7e-d0a02efbc9bf"
      },
      "id": "V2UnHwx3kbty",
      "execution_count": 20,
      "outputs": [
        {
          "output_type": "stream",
          "name": "stdout",
          "text": [
            "Best params: {'eta0': 0.0076009122424709995, 'learning_rate': 'adaptive', 'loss': 'squared_hinge'}\n",
            "Best score: 0.6670756411726484\n"
          ]
        }
      ]
    },
    {
      "cell_type": "code",
      "source": [
        "# phase 2: penalty\n",
        "sgd_classifier = random_search_cv.best_estimator_\n",
        "distributions = dict(\n",
        "    penalty=['l1', 'l2', 'elasticnet'],\n",
        "    alpha=uniform(loc=1e-6, scale=1e-4)\n",
        ")\n",
        "random_search_cv = rscv(X_dtm, y_train, sgd_classifier, distributions)"
      ],
      "metadata": {
        "colab": {
          "base_uri": "https://localhost:8080/"
        },
        "id": "7N-AE4SokyYU",
        "outputId": "b05315f5-63fe-46b7-d7da-9099a24fcb2d"
      },
      "id": "7N-AE4SokyYU",
      "execution_count": 21,
      "outputs": [
        {
          "output_type": "stream",
          "name": "stdout",
          "text": [
            "Best params: {'alpha': 9.199308711460112e-05, 'penalty': 'elasticnet'}\n",
            "Best score: 0.6689332263119673\n"
          ]
        }
      ]
    },
    {
      "cell_type": "code",
      "source": [
        "sgd_classifier = random_search_cv.best_estimator_"
      ],
      "metadata": {
        "id": "pvfzxRikmSQw"
      },
      "id": "pvfzxRikmSQw",
      "execution_count": 22,
      "outputs": []
    },
    {
      "cell_type": "code",
      "source": [
        "res(sgd_classifier)"
      ],
      "metadata": {
        "colab": {
          "base_uri": "https://localhost:8080/"
        },
        "id": "0OWRBpsamam3",
        "outputId": "60d48327-5355-4ce9-d134-2d0794fea6d8"
      },
      "id": "0OWRBpsamam3",
      "execution_count": 23,
      "outputs": [
        {
          "output_type": "stream",
          "name": "stdout",
          "text": [
            "\n",
            "  The evaluation report is:\n",
            "  Confusion Matrix:\n",
            "  [[ 13  20   6]\n",
            " [  4 226  30]\n",
            " [  4  40  61]]\n",
            "  Accuracy: 0.7425742574257426\n",
            "  \n"
          ]
        }
      ]
    },
    {
      "cell_type": "markdown",
      "source": [
        "## Logistic Regression"
      ],
      "metadata": {
        "id": "jLP3KFVgmxys"
      },
      "id": "jLP3KFVgmxys"
    },
    {
      "cell_type": "code",
      "source": [
        "train_and_show_scores(X_dtm, y_train, 'Logistic Classifier', log_classifier)"
      ],
      "metadata": {
        "colab": {
          "base_uri": "https://localhost:8080/"
        },
        "id": "c_WQ6ejYm5P3",
        "outputId": "85c3a47e-05c5-4563-86fd-2a5e73323ee2"
      },
      "id": "c_WQ6ejYm5P3",
      "execution_count": null,
      "outputs": [
        {
          "output_type": "stream",
          "name": "stdout",
          "text": [
            "Logistic Classifier\n",
            "Train score: 0.86 ; Validation score: 0.63\n",
            "\n"
          ]
        }
      ]
    },
    {
      "cell_type": "code",
      "source": [
        "distributions = dict(\n",
        "    solver=['lbfgs', 'sag', 'saga'],\n",
        "    fit_intercept=[True,False],\n",
        "    tol=[1e-2, 1e-3, 1e-4, 1e-5],\n",
        "    C=[0.1, 1, 10]\n",
        ")\n",
        "random_search_cv = rscv(X_dtm, y_train, log_classifier, distributions)"
      ],
      "metadata": {
        "colab": {
          "base_uri": "https://localhost:8080/"
        },
        "id": "O5TuRyOcmvjs",
        "outputId": "46e3deb6-a626-4e59-af9e-2c987760644e"
      },
      "id": "O5TuRyOcmvjs",
      "execution_count": null,
      "outputs": [
        {
          "output_type": "stream",
          "name": "stdout",
          "text": [
            "Best params: {'tol': 0.001, 'solver': 'saga', 'fit_intercept': True, 'C': 10}\n",
            "Best score: 0.6615028857546916\n"
          ]
        }
      ]
    },
    {
      "cell_type": "code",
      "source": [
        "log_classifier = random_search_cv.best_estimator_"
      ],
      "metadata": {
        "id": "bLGyZGfbnibz"
      },
      "id": "bLGyZGfbnibz",
      "execution_count": null,
      "outputs": []
    },
    {
      "cell_type": "code",
      "source": [
        "res(log_classifier)"
      ],
      "metadata": {
        "colab": {
          "base_uri": "https://localhost:8080/"
        },
        "id": "H3qqhFtRnm8U",
        "outputId": "086f8b93-f510-4b34-f29a-cbc8566eee9a"
      },
      "id": "H3qqhFtRnm8U",
      "execution_count": null,
      "outputs": [
        {
          "output_type": "stream",
          "name": "stdout",
          "text": [
            "\n",
            "  The evaluation report is:\n",
            "  Confusion Matrix:\n",
            "  [[ 12  23   4]\n",
            " [  3 228  29]\n",
            " [  2  46  57]]\n",
            "  Accuracy: 0.7351485148514851\n",
            "  \n"
          ]
        }
      ]
    },
    {
      "cell_type": "markdown",
      "source": [
        "## Naive Bayes"
      ],
      "metadata": {
        "id": "Da7cbfL1nwSb"
      },
      "id": "Da7cbfL1nwSb"
    },
    {
      "cell_type": "code",
      "source": [
        "train_and_show_scores(X_dtm, y_train, 'Naive Bayes Classifier', NB_classifier)"
      ],
      "metadata": {
        "colab": {
          "base_uri": "https://localhost:8080/"
        },
        "id": "S989qTywn3bd",
        "outputId": "d7c891da-00f8-4bad-8576-049aa6f3cb9e"
      },
      "id": "S989qTywn3bd",
      "execution_count": null,
      "outputs": [
        {
          "output_type": "stream",
          "name": "stdout",
          "text": [
            "Naive Bayes Classifier\n",
            "Train score: 0.8 ; Validation score: 0.61\n",
            "\n"
          ]
        }
      ]
    },
    {
      "cell_type": "code",
      "source": [
        "distributions = dict(\n",
        "    alpha=uniform(loc=1e-6, scale=1e-4),\n",
        "    fit_prior=[True,False]\n",
        ")\n",
        "random_search_cv = rscv(X_dtm, y_train, NB_classifier, distributions)"
      ],
      "metadata": {
        "colab": {
          "base_uri": "https://localhost:8080/"
        },
        "id": "N67G2EO6n7Kl",
        "outputId": "e97e24be-7f47-47c1-ec9d-a4ca3d682f32"
      },
      "id": "N67G2EO6n7Kl",
      "execution_count": null,
      "outputs": [
        {
          "output_type": "stream",
          "name": "stdout",
          "text": [
            "Best params: {'alpha': 1.0581859348820044e-05, 'fit_prior': True}\n",
            "Best score: 0.6200531284638611\n"
          ]
        }
      ]
    },
    {
      "cell_type": "code",
      "source": [
        "NB_classifier = random_search_cv.best_estimator_"
      ],
      "metadata": {
        "id": "OEFknar7oF1D"
      },
      "id": "OEFknar7oF1D",
      "execution_count": null,
      "outputs": []
    },
    {
      "cell_type": "code",
      "source": [
        "res(NB_classifier)"
      ],
      "metadata": {
        "colab": {
          "base_uri": "https://localhost:8080/"
        },
        "id": "GuN5xPIVeA24",
        "outputId": "9dfc159f-a535-4dc1-d8b2-093221b89fc1"
      },
      "id": "GuN5xPIVeA24",
      "execution_count": null,
      "outputs": [
        {
          "output_type": "stream",
          "name": "stdout",
          "text": [
            "\n",
            "  The evaluation report is:\n",
            "  Confusion Matrix:\n",
            "  [[ 16  19   4]\n",
            " [  9 209  42]\n",
            " [  6  28  71]]\n",
            "  Accuracy: 0.7326732673267327\n",
            "  \n"
          ]
        }
      ]
    },
    {
      "cell_type": "markdown",
      "source": [
        "## Decision Tree"
      ],
      "metadata": {
        "id": "VMiWCjaYxg_j"
      },
      "id": "VMiWCjaYxg_j"
    },
    {
      "cell_type": "code",
      "source": [
        "train_and_show_scores(X_dtm, y_train, 'Decision Tree Classifier', DT_classifier)"
      ],
      "metadata": {
        "colab": {
          "base_uri": "https://localhost:8080/"
        },
        "id": "J0bs0iXzxicY",
        "outputId": "c3b3cdc2-1a7f-4415-c0ae-8e08e46b7ee2"
      },
      "id": "J0bs0iXzxicY",
      "execution_count": null,
      "outputs": [
        {
          "output_type": "stream",
          "name": "stdout",
          "text": [
            "Decision Tree Classifier\n",
            "Train score: 1.0 ; Validation score: 0.57\n",
            "\n"
          ]
        }
      ]
    },
    {
      "cell_type": "code",
      "source": [
        "distributions = dict(\n",
        "    criterion=['gini', 'entropy'],\n",
        "    max_features=['auto', 'sqrt', 'log2'],\n",
        "    ccp_alpha=uniform(loc=1e-6, scale=1e-4)\n",
        ")\n",
        "random_search_cv = rscv(X_dtm, y_train, DT_classifier, distributions)"
      ],
      "metadata": {
        "colab": {
          "base_uri": "https://localhost:8080/"
        },
        "id": "yK1hfeWVxmgb",
        "outputId": "25641f62-2a72-444e-9b93-037b03bf98b8"
      },
      "id": "yK1hfeWVxmgb",
      "execution_count": null,
      "outputs": [
        {
          "output_type": "stream",
          "name": "stdout",
          "text": [
            "Best params: {'ccp_alpha': 1.6164599746371855e-05, 'criterion': 'entropy', 'max_features': 'sqrt'}\n",
            "Best score: 0.6027099338760846\n"
          ]
        }
      ]
    },
    {
      "cell_type": "code",
      "source": [
        "DT_classifier = random_search_cv.best_estimator_"
      ],
      "metadata": {
        "id": "fD0eDJkFxwAr"
      },
      "id": "fD0eDJkFxwAr",
      "execution_count": null,
      "outputs": []
    },
    {
      "cell_type": "code",
      "source": [
        "res(DT_classifier)"
      ],
      "metadata": {
        "colab": {
          "base_uri": "https://localhost:8080/"
        },
        "id": "bh0xBOJUxw0e",
        "outputId": "e7344913-f2dc-4baa-8cf4-9950ca8bfd15"
      },
      "id": "bh0xBOJUxw0e",
      "execution_count": null,
      "outputs": [
        {
          "output_type": "stream",
          "name": "stdout",
          "text": [
            "\n",
            "  The evaluation report is:\n",
            "  Confusion Matrix:\n",
            "  [[ 10  22   7]\n",
            " [ 11 204  45]\n",
            " [  3  51  51]]\n",
            "  Accuracy: 0.655940594059406\n",
            "  \n"
          ]
        }
      ]
    },
    {
      "cell_type": "markdown",
      "source": [
        "## Random Forest"
      ],
      "metadata": {
        "id": "OC9vKdwMoUAG"
      },
      "id": "OC9vKdwMoUAG"
    },
    {
      "cell_type": "code",
      "source": [
        "train_and_show_scores(X_dtm, y_train, 'Random Forest Classifier', RF_classifier)"
      ],
      "metadata": {
        "colab": {
          "base_uri": "https://localhost:8080/"
        },
        "id": "qfoWSwL8oW_E",
        "outputId": "2be822c3-2258-4297-fd9f-114334e46643"
      },
      "id": "qfoWSwL8oW_E",
      "execution_count": null,
      "outputs": [
        {
          "output_type": "stream",
          "name": "stdout",
          "text": [
            "Random Forest Classifier\n",
            "Train score: 1.0 ; Validation score: 0.62\n",
            "\n"
          ]
        }
      ]
    },
    {
      "cell_type": "code",
      "source": [
        "distributions = dict(\n",
        "    criterion=['gini', 'entropy'],\n",
        "    max_features=['auto', 'sqrt', 'log2'],\n",
        "    ccp_alpha=uniform(loc=1e-6, scale=1e-4),\n",
        "    bootstrap=[True,False]\n",
        ")\n",
        "random_search_cv = rscv(X_dtm, y_train, RF_classifier, distributions)"
      ],
      "metadata": {
        "colab": {
          "base_uri": "https://localhost:8080/"
        },
        "id": "zy4ZxjXxocIY",
        "outputId": "34f21d11-c153-4329-a05f-afe0be4e1834"
      },
      "id": "zy4ZxjXxocIY",
      "execution_count": null,
      "outputs": [
        {
          "output_type": "stream",
          "name": "stdout",
          "text": [
            "Best params: {'bootstrap': False, 'ccp_alpha': 6.965002838980942e-05, 'criterion': 'gini', 'max_features': 'sqrt'}\n",
            "Best score: 0.6503688414937124\n"
          ]
        }
      ]
    },
    {
      "cell_type": "code",
      "source": [
        "RF_classifier = random_search_cv.best_estimator_"
      ],
      "metadata": {
        "id": "3HzPIA-9oigK"
      },
      "id": "3HzPIA-9oigK",
      "execution_count": null,
      "outputs": []
    },
    {
      "cell_type": "code",
      "source": [
        "res(RF_classifier)"
      ],
      "metadata": {
        "colab": {
          "base_uri": "https://localhost:8080/"
        },
        "id": "oE6uenFutCLE",
        "outputId": "5ad44df1-22c3-4b05-ea93-ebbe6e8c208c"
      },
      "id": "oE6uenFutCLE",
      "execution_count": null,
      "outputs": [
        {
          "output_type": "stream",
          "name": "stdout",
          "text": [
            "\n",
            "  The evaluation report is:\n",
            "  Confusion Matrix:\n",
            "  [[  9  21   9]\n",
            " [  0 232  28]\n",
            " [  0  52  53]]\n",
            "  Accuracy: 0.7277227722772277\n",
            "  \n"
          ]
        }
      ]
    },
    {
      "cell_type": "markdown",
      "source": [
        "## Gradient Boosting"
      ],
      "metadata": {
        "id": "OT9tqaI1os_-"
      },
      "id": "OT9tqaI1os_-"
    },
    {
      "cell_type": "code",
      "source": [
        "train_and_show_scores(X_dtm, y_train, 'Gradient Boosting Classifier', GB_classifier)"
      ],
      "metadata": {
        "colab": {
          "base_uri": "https://localhost:8080/"
        },
        "id": "AGQ18An7ourp",
        "outputId": "435f6057-f539-413a-ded5-1fbc27cd89b9"
      },
      "id": "AGQ18An7ourp",
      "execution_count": null,
      "outputs": [
        {
          "output_type": "stream",
          "name": "stdout",
          "text": [
            "Gradient Boosting Classifier\n",
            "Train score: 0.82 ; Validation score: 0.64\n",
            "\n"
          ]
        }
      ]
    },
    {
      "cell_type": "code",
      "source": [
        "distributions = dict(\n",
        "    learning_rate=[0.001, 0.01, 0.1, 0.5],\n",
        "    max_features=['auto', 'sqrt', 'log2'],\n",
        "    ccp_alpha=uniform(loc=1e-6, scale=1e-4),\n",
        "    max_depth=[2]\n",
        ")\n",
        "random_search_cv = rscv(X_dtm, y_train, GB_classifier, distributions)"
      ],
      "metadata": {
        "colab": {
          "base_uri": "https://localhost:8080/"
        },
        "id": "aFK-T4Cjoyuu",
        "outputId": "ccd1d23a-eddb-4928-eef1-2bbf055bddc1"
      },
      "id": "aFK-T4Cjoyuu",
      "execution_count": null,
      "outputs": [
        {
          "output_type": "stream",
          "name": "stdout",
          "text": [
            "Best params: {'ccp_alpha': 1.3852469489502273e-05, 'learning_rate': 0.5, 'max_depth': 2, 'max_features': 'auto'}\n",
            "Best score: 0.6361388220005351\n"
          ]
        }
      ]
    },
    {
      "cell_type": "code",
      "source": [
        "GB_classifier = random_search_cv.best_estimator_"
      ],
      "metadata": {
        "id": "5TG2wCTio65T"
      },
      "id": "5TG2wCTio65T",
      "execution_count": null,
      "outputs": []
    },
    {
      "cell_type": "code",
      "source": [
        "res(GB_classifier)"
      ],
      "metadata": {
        "colab": {
          "base_uri": "https://localhost:8080/"
        },
        "id": "-FERe3ptw7v7",
        "outputId": "17e1116c-2a39-4476-a47c-d60adcef2b7c"
      },
      "id": "-FERe3ptw7v7",
      "execution_count": null,
      "outputs": [
        {
          "output_type": "stream",
          "name": "stdout",
          "text": [
            "\n",
            "  The evaluation report is:\n",
            "  Confusion Matrix:\n",
            "  [[ 10  22   7]\n",
            " [ 12 207  41]\n",
            " [  3  56  46]]\n",
            "  Accuracy: 0.650990099009901\n",
            "  \n"
          ]
        }
      ]
    },
    {
      "cell_type": "markdown",
      "source": [
        "## Vader (unsupervised ML)"
      ],
      "metadata": {
        "id": "t0bluYnjlCqN"
      },
      "id": "t0bluYnjlCqN"
    },
    {
      "cell_type": "code",
      "source": [
        "sid = SentimentIntensityAnalyzer()"
      ],
      "metadata": {
        "id": "l21xZ3cVlFAg"
      },
      "id": "l21xZ3cVlFAg",
      "execution_count": null,
      "outputs": []
    },
    {
      "cell_type": "code",
      "source": [
        "df['compound'] = df['tweet'].apply(lambda review: sid.polarity_scores(review)).apply(lambda score_dict: score_dict['compound'])\n",
        "# get predicted sentiment based on the words only (the preprocessing must be finetuned to achieve high accuracy)\n",
        "df['comp_score'] = df['compound'].apply(lambda c: 1 if c >=0.5 else (-1 if c<=-0.5 else 0))"
      ],
      "metadata": {
        "id": "isUuIIbTlJON"
      },
      "id": "isUuIIbTlJON",
      "execution_count": null,
      "outputs": []
    },
    {
      "cell_type": "code",
      "source": [
        "# check accuracy against actual sentiment \n",
        "accuracy_score(df['comp_score'], df['label'])"
      ],
      "metadata": {
        "id": "gcTXEP86lTwc",
        "colab": {
          "base_uri": "https://localhost:8080/"
        },
        "outputId": "fff39fab-0419-4cb3-fda6-0a7e88e72954"
      },
      "id": "gcTXEP86lTwc",
      "execution_count": null,
      "outputs": [
        {
          "output_type": "execute_result",
          "data": {
            "text/plain": [
              "0.6188118811881188"
            ]
          },
          "metadata": {},
          "execution_count": 256
        }
      ]
    },
    {
      "cell_type": "markdown",
      "source": [
        "## Best Model: Stochastic Gradient Descent Classifier\n",
        "Test with unlabelled data `test.csv`"
      ],
      "metadata": {
        "id": "9lZBxFrJeS19"
      },
      "id": "9lZBxFrJeS19"
    },
    {
      "cell_type": "code",
      "source": [
        "df_unlabelled = pd.read_csv('/content/drive/MyDrive/NUS/BT4222/BT4222 Project/test.csv').drop(columns=['username','time', 'replies_count','retweets_count','likes_count'])"
      ],
      "metadata": {
        "id": "jk-FHtw-eWjv"
      },
      "id": "jk-FHtw-eWjv",
      "execution_count": 57,
      "outputs": []
    },
    {
      "cell_type": "code",
      "source": [
        "df_unlabelled['tweet_processed'] = df_unlabelled['tweet'].apply(process_tweet)\n",
        "df_unlabelled.head()"
      ],
      "metadata": {
        "colab": {
          "base_uri": "https://localhost:8080/",
          "height": 206
        },
        "id": "Ze_WvExmuFgB",
        "outputId": "2216a87d-6772-4311-a9e8-872ab407b686"
      },
      "id": "Ze_WvExmuFgB",
      "execution_count": 60,
      "outputs": [
        {
          "output_type": "execute_result",
          "data": {
            "text/plain": [
              "                                               tweet product  \\\n",
              "0  hey californians if you want a model you may b...     tm3   \n",
              "1  fits tesla model front bumper lip spoiler unpa...     tm3   \n",
              "2  tried to book a model sr on for my trip to co ...     tm3   \n",
              "3     awesome now i can take my model performance to     tm3   \n",
              "4  k is old new rumor is that its k just rumors b...     tm3   \n",
              "\n",
              "                                     tweet_processed  \n",
              "0  [hey, californian, want, model, may, luck, ser...  \n",
              "1  [fit, tesla, model, front, bumper, lip, spoile...  \n",
              "2  [tried, book, model, sr, trip, co, julythe, ho...  \n",
              "3                [awesome, take, model, performance]  \n",
              "4  [k, old, new, rumor, k, rumor, dont, doubt, k,...  "
            ],
            "text/html": [
              "\n",
              "  <div id=\"df-fbde8fab-16c6-4bc4-a3ce-0e01bc160afe\">\n",
              "    <div class=\"colab-df-container\">\n",
              "      <div>\n",
              "<style scoped>\n",
              "    .dataframe tbody tr th:only-of-type {\n",
              "        vertical-align: middle;\n",
              "    }\n",
              "\n",
              "    .dataframe tbody tr th {\n",
              "        vertical-align: top;\n",
              "    }\n",
              "\n",
              "    .dataframe thead th {\n",
              "        text-align: right;\n",
              "    }\n",
              "</style>\n",
              "<table border=\"1\" class=\"dataframe\">\n",
              "  <thead>\n",
              "    <tr style=\"text-align: right;\">\n",
              "      <th></th>\n",
              "      <th>tweet</th>\n",
              "      <th>product</th>\n",
              "      <th>tweet_processed</th>\n",
              "    </tr>\n",
              "  </thead>\n",
              "  <tbody>\n",
              "    <tr>\n",
              "      <th>0</th>\n",
              "      <td>hey californians if you want a model you may b...</td>\n",
              "      <td>tm3</td>\n",
              "      <td>[hey, californian, want, model, may, luck, ser...</td>\n",
              "    </tr>\n",
              "    <tr>\n",
              "      <th>1</th>\n",
              "      <td>fits tesla model front bumper lip spoiler unpa...</td>\n",
              "      <td>tm3</td>\n",
              "      <td>[fit, tesla, model, front, bumper, lip, spoile...</td>\n",
              "    </tr>\n",
              "    <tr>\n",
              "      <th>2</th>\n",
              "      <td>tried to book a model sr on for my trip to co ...</td>\n",
              "      <td>tm3</td>\n",
              "      <td>[tried, book, model, sr, trip, co, julythe, ho...</td>\n",
              "    </tr>\n",
              "    <tr>\n",
              "      <th>3</th>\n",
              "      <td>awesome now i can take my model performance to</td>\n",
              "      <td>tm3</td>\n",
              "      <td>[awesome, take, model, performance]</td>\n",
              "    </tr>\n",
              "    <tr>\n",
              "      <th>4</th>\n",
              "      <td>k is old new rumor is that its k just rumors b...</td>\n",
              "      <td>tm3</td>\n",
              "      <td>[k, old, new, rumor, k, rumor, dont, doubt, k,...</td>\n",
              "    </tr>\n",
              "  </tbody>\n",
              "</table>\n",
              "</div>\n",
              "      <button class=\"colab-df-convert\" onclick=\"convertToInteractive('df-fbde8fab-16c6-4bc4-a3ce-0e01bc160afe')\"\n",
              "              title=\"Convert this dataframe to an interactive table.\"\n",
              "              style=\"display:none;\">\n",
              "        \n",
              "  <svg xmlns=\"http://www.w3.org/2000/svg\" height=\"24px\"viewBox=\"0 0 24 24\"\n",
              "       width=\"24px\">\n",
              "    <path d=\"M0 0h24v24H0V0z\" fill=\"none\"/>\n",
              "    <path d=\"M18.56 5.44l.94 2.06.94-2.06 2.06-.94-2.06-.94-.94-2.06-.94 2.06-2.06.94zm-11 1L8.5 8.5l.94-2.06 2.06-.94-2.06-.94L8.5 2.5l-.94 2.06-2.06.94zm10 10l.94 2.06.94-2.06 2.06-.94-2.06-.94-.94-2.06-.94 2.06-2.06.94z\"/><path d=\"M17.41 7.96l-1.37-1.37c-.4-.4-.92-.59-1.43-.59-.52 0-1.04.2-1.43.59L10.3 9.45l-7.72 7.72c-.78.78-.78 2.05 0 2.83L4 21.41c.39.39.9.59 1.41.59.51 0 1.02-.2 1.41-.59l7.78-7.78 2.81-2.81c.8-.78.8-2.07 0-2.86zM5.41 20L4 18.59l7.72-7.72 1.47 1.35L5.41 20z\"/>\n",
              "  </svg>\n",
              "      </button>\n",
              "      \n",
              "  <style>\n",
              "    .colab-df-container {\n",
              "      display:flex;\n",
              "      flex-wrap:wrap;\n",
              "      gap: 12px;\n",
              "    }\n",
              "\n",
              "    .colab-df-convert {\n",
              "      background-color: #E8F0FE;\n",
              "      border: none;\n",
              "      border-radius: 50%;\n",
              "      cursor: pointer;\n",
              "      display: none;\n",
              "      fill: #1967D2;\n",
              "      height: 32px;\n",
              "      padding: 0 0 0 0;\n",
              "      width: 32px;\n",
              "    }\n",
              "\n",
              "    .colab-df-convert:hover {\n",
              "      background-color: #E2EBFA;\n",
              "      box-shadow: 0px 1px 2px rgba(60, 64, 67, 0.3), 0px 1px 3px 1px rgba(60, 64, 67, 0.15);\n",
              "      fill: #174EA6;\n",
              "    }\n",
              "\n",
              "    [theme=dark] .colab-df-convert {\n",
              "      background-color: #3B4455;\n",
              "      fill: #D2E3FC;\n",
              "    }\n",
              "\n",
              "    [theme=dark] .colab-df-convert:hover {\n",
              "      background-color: #434B5C;\n",
              "      box-shadow: 0px 1px 3px 1px rgba(0, 0, 0, 0.15);\n",
              "      filter: drop-shadow(0px 1px 2px rgba(0, 0, 0, 0.3));\n",
              "      fill: #FFFFFF;\n",
              "    }\n",
              "  </style>\n",
              "\n",
              "      <script>\n",
              "        const buttonEl =\n",
              "          document.querySelector('#df-fbde8fab-16c6-4bc4-a3ce-0e01bc160afe button.colab-df-convert');\n",
              "        buttonEl.style.display =\n",
              "          google.colab.kernel.accessAllowed ? 'block' : 'none';\n",
              "\n",
              "        async function convertToInteractive(key) {\n",
              "          const element = document.querySelector('#df-fbde8fab-16c6-4bc4-a3ce-0e01bc160afe');\n",
              "          const dataTable =\n",
              "            await google.colab.kernel.invokeFunction('convertToInteractive',\n",
              "                                                     [key], {});\n",
              "          if (!dataTable) return;\n",
              "\n",
              "          const docLinkHtml = 'Like what you see? Visit the ' +\n",
              "            '<a target=\"_blank\" href=https://colab.research.google.com/notebooks/data_table.ipynb>data table notebook</a>'\n",
              "            + ' to learn more about interactive tables.';\n",
              "          element.innerHTML = '';\n",
              "          dataTable['output_type'] = 'display_data';\n",
              "          await google.colab.output.renderOutput(dataTable, element);\n",
              "          const docLink = document.createElement('div');\n",
              "          docLink.innerHTML = docLinkHtml;\n",
              "          element.appendChild(docLink);\n",
              "        }\n",
              "      </script>\n",
              "    </div>\n",
              "  </div>\n",
              "  "
            ]
          },
          "metadata": {},
          "execution_count": 60
        }
      ]
    },
    {
      "cell_type": "code",
      "source": [
        "tvectors = []\n",
        "\n",
        "for index, row in df_unlabelled.iterrows():\n",
        "    tvectors.append(\", \".join(row[2]))"
      ],
      "metadata": {
        "id": "YbrD1BX50V66"
      },
      "id": "YbrD1BX50V66",
      "execution_count": 61,
      "outputs": []
    },
    {
      "cell_type": "code",
      "source": [
        "test_unlabelled = vect.transform(tvectors)"
      ],
      "metadata": {
        "id": "GlG1Pqbi0fdP"
      },
      "id": "GlG1Pqbi0fdP",
      "execution_count": 62,
      "outputs": []
    },
    {
      "cell_type": "code",
      "source": [
        "df_unlabelled['sentiment'] = sgd_classifier.predict(test_unlabelled)\n",
        "results = df_unlabelled.groupby(['product', 'sentiment']).count().reset_index()\n",
        "results = results.pivot(index='product', columns='sentiment', values='tweet').reset_index()\n",
        "results.set_index('product', inplace=True)\n",
        "results.rename(index={'tm3': 'Model 3', 'tms': 'Model S', 'tmx': 'Model X', 'tmy':'Model Y'}, inplace=True)\n",
        "results.drop(columns=0, inplace=True)\n",
        "display(results)"
      ],
      "metadata": {
        "colab": {
          "base_uri": "https://localhost:8080/",
          "height": 206
        },
        "id": "gNqrli0j0k_h",
        "outputId": "0496e014-5a92-4594-8b90-510e005357eb"
      },
      "id": "gNqrli0j0k_h",
      "execution_count": 63,
      "outputs": [
        {
          "output_type": "display_data",
          "data": {
            "text/plain": [
              "sentiment  -1    1\n",
              "product           \n",
              "Model 3    78  564\n",
              "Model S    11   46\n",
              "Model X    60  354\n",
              "Model Y    80  418"
            ],
            "text/html": [
              "\n",
              "  <div id=\"df-ec1b2fa4-8c79-4c61-aac2-6b3f5a1d8956\">\n",
              "    <div class=\"colab-df-container\">\n",
              "      <div>\n",
              "<style scoped>\n",
              "    .dataframe tbody tr th:only-of-type {\n",
              "        vertical-align: middle;\n",
              "    }\n",
              "\n",
              "    .dataframe tbody tr th {\n",
              "        vertical-align: top;\n",
              "    }\n",
              "\n",
              "    .dataframe thead th {\n",
              "        text-align: right;\n",
              "    }\n",
              "</style>\n",
              "<table border=\"1\" class=\"dataframe\">\n",
              "  <thead>\n",
              "    <tr style=\"text-align: right;\">\n",
              "      <th>sentiment</th>\n",
              "      <th>-1</th>\n",
              "      <th>1</th>\n",
              "    </tr>\n",
              "    <tr>\n",
              "      <th>product</th>\n",
              "      <th></th>\n",
              "      <th></th>\n",
              "    </tr>\n",
              "  </thead>\n",
              "  <tbody>\n",
              "    <tr>\n",
              "      <th>Model 3</th>\n",
              "      <td>78</td>\n",
              "      <td>564</td>\n",
              "    </tr>\n",
              "    <tr>\n",
              "      <th>Model S</th>\n",
              "      <td>11</td>\n",
              "      <td>46</td>\n",
              "    </tr>\n",
              "    <tr>\n",
              "      <th>Model X</th>\n",
              "      <td>60</td>\n",
              "      <td>354</td>\n",
              "    </tr>\n",
              "    <tr>\n",
              "      <th>Model Y</th>\n",
              "      <td>80</td>\n",
              "      <td>418</td>\n",
              "    </tr>\n",
              "  </tbody>\n",
              "</table>\n",
              "</div>\n",
              "      <button class=\"colab-df-convert\" onclick=\"convertToInteractive('df-ec1b2fa4-8c79-4c61-aac2-6b3f5a1d8956')\"\n",
              "              title=\"Convert this dataframe to an interactive table.\"\n",
              "              style=\"display:none;\">\n",
              "        \n",
              "  <svg xmlns=\"http://www.w3.org/2000/svg\" height=\"24px\"viewBox=\"0 0 24 24\"\n",
              "       width=\"24px\">\n",
              "    <path d=\"M0 0h24v24H0V0z\" fill=\"none\"/>\n",
              "    <path d=\"M18.56 5.44l.94 2.06.94-2.06 2.06-.94-2.06-.94-.94-2.06-.94 2.06-2.06.94zm-11 1L8.5 8.5l.94-2.06 2.06-.94-2.06-.94L8.5 2.5l-.94 2.06-2.06.94zm10 10l.94 2.06.94-2.06 2.06-.94-2.06-.94-.94-2.06-.94 2.06-2.06.94z\"/><path d=\"M17.41 7.96l-1.37-1.37c-.4-.4-.92-.59-1.43-.59-.52 0-1.04.2-1.43.59L10.3 9.45l-7.72 7.72c-.78.78-.78 2.05 0 2.83L4 21.41c.39.39.9.59 1.41.59.51 0 1.02-.2 1.41-.59l7.78-7.78 2.81-2.81c.8-.78.8-2.07 0-2.86zM5.41 20L4 18.59l7.72-7.72 1.47 1.35L5.41 20z\"/>\n",
              "  </svg>\n",
              "      </button>\n",
              "      \n",
              "  <style>\n",
              "    .colab-df-container {\n",
              "      display:flex;\n",
              "      flex-wrap:wrap;\n",
              "      gap: 12px;\n",
              "    }\n",
              "\n",
              "    .colab-df-convert {\n",
              "      background-color: #E8F0FE;\n",
              "      border: none;\n",
              "      border-radius: 50%;\n",
              "      cursor: pointer;\n",
              "      display: none;\n",
              "      fill: #1967D2;\n",
              "      height: 32px;\n",
              "      padding: 0 0 0 0;\n",
              "      width: 32px;\n",
              "    }\n",
              "\n",
              "    .colab-df-convert:hover {\n",
              "      background-color: #E2EBFA;\n",
              "      box-shadow: 0px 1px 2px rgba(60, 64, 67, 0.3), 0px 1px 3px 1px rgba(60, 64, 67, 0.15);\n",
              "      fill: #174EA6;\n",
              "    }\n",
              "\n",
              "    [theme=dark] .colab-df-convert {\n",
              "      background-color: #3B4455;\n",
              "      fill: #D2E3FC;\n",
              "    }\n",
              "\n",
              "    [theme=dark] .colab-df-convert:hover {\n",
              "      background-color: #434B5C;\n",
              "      box-shadow: 0px 1px 3px 1px rgba(0, 0, 0, 0.15);\n",
              "      filter: drop-shadow(0px 1px 2px rgba(0, 0, 0, 0.3));\n",
              "      fill: #FFFFFF;\n",
              "    }\n",
              "  </style>\n",
              "\n",
              "      <script>\n",
              "        const buttonEl =\n",
              "          document.querySelector('#df-ec1b2fa4-8c79-4c61-aac2-6b3f5a1d8956 button.colab-df-convert');\n",
              "        buttonEl.style.display =\n",
              "          google.colab.kernel.accessAllowed ? 'block' : 'none';\n",
              "\n",
              "        async function convertToInteractive(key) {\n",
              "          const element = document.querySelector('#df-ec1b2fa4-8c79-4c61-aac2-6b3f5a1d8956');\n",
              "          const dataTable =\n",
              "            await google.colab.kernel.invokeFunction('convertToInteractive',\n",
              "                                                     [key], {});\n",
              "          if (!dataTable) return;\n",
              "\n",
              "          const docLinkHtml = 'Like what you see? Visit the ' +\n",
              "            '<a target=\"_blank\" href=https://colab.research.google.com/notebooks/data_table.ipynb>data table notebook</a>'\n",
              "            + ' to learn more about interactive tables.';\n",
              "          element.innerHTML = '';\n",
              "          dataTable['output_type'] = 'display_data';\n",
              "          await google.colab.output.renderOutput(dataTable, element);\n",
              "          const docLink = document.createElement('div');\n",
              "          docLink.innerHTML = docLinkHtml;\n",
              "          element.appendChild(docLink);\n",
              "        }\n",
              "      </script>\n",
              "    </div>\n",
              "  </div>\n",
              "  "
            ]
          },
          "metadata": {}
        }
      ]
    },
    {
      "cell_type": "code",
      "source": [
        "results.plot.bar(rot=0)"
      ],
      "metadata": {
        "colab": {
          "base_uri": "https://localhost:8080/",
          "height": 296
        },
        "id": "-CrixaL_DynS",
        "outputId": "fb809e1e-feda-49c4-bad7-df5b7920b877"
      },
      "id": "-CrixaL_DynS",
      "execution_count": 64,
      "outputs": [
        {
          "output_type": "execute_result",
          "data": {
            "text/plain": [
              "<matplotlib.axes._subplots.AxesSubplot at 0x7f817e8b1f90>"
            ]
          },
          "metadata": {},
          "execution_count": 64
        },
        {
          "output_type": "display_data",
          "data": {
            "text/plain": [
              "<Figure size 432x288 with 1 Axes>"
            ],
            "image/png": "[encoded data removed]"
          },
          "metadata": {
            "needs_background": "light"
          }
        }
      ]
    }
  ],
  "metadata": {
    "kernelspec": {
      "display_name": "Python 3",
      "language": "python",
      "name": "python3"
    },
    "language_info": {
      "codemirror_mode": {
        "name": "ipython",
        "version": 3
      },
      "file_extension": ".py",
      "mimetype": "text/x-python",
      "name": "python",
      "nbconvert_exporter": "python",
      "pygments_lexer": "ipython3",
      "version": "3.6.15"
    },
    "colab": {
      "name": "BT4222 ML codes.ipynb",
      "provenance": [],
      "collapsed_sections": []
    }
  },
  "nbformat": 4,
  "nbformat_minor": 5
}